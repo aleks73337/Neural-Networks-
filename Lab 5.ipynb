{
 "cells": [
  {
   "cell_type": "code",
   "execution_count": 2,
   "metadata": {},
   "outputs": [],
   "source": [
    "import pandas as pd\n",
    "train = pd.read_csv(\"train.csv\", header=None)\n",
    "test = pd.read_csv(\"test.csv\", header=None)"
   ]
  },
  {
   "cell_type": "code",
   "execution_count": 3,
   "metadata": {},
   "outputs": [
    {
     "name": "stdout",
     "output_type": "stream",
     "text": [
      "7\n"
     ]
    }
   ],
   "source": [
    "import numpy as np\n",
    "train = np.asarray(train)\n",
    "test = np.asarray(test)\n",
    "first_pic = train[8]\n",
    "pic_label, pic = first_pic[0], first_pic[1:]\n",
    "print(pic_label)"
   ]
  },
  {
   "cell_type": "code",
   "execution_count": 4,
   "metadata": {},
   "outputs": [
    {
     "data": {
      "text/plain": [
       "<Figure size 640x480 with 1 Axes>"
      ]
     },
     "metadata": {},
     "output_type": "display_data"
    }
   ],
   "source": [
    "import matplotlib.pyplot as plt\n",
    "plt.imshow(pic.reshape((28, 28)).T, cmap='gray')\n",
    "plt.show()"
   ]
  },
  {
   "cell_type": "code",
   "execution_count": 5,
   "metadata": {},
   "outputs": [
    {
     "name": "stderr",
     "output_type": "stream",
     "text": [
      "Using TensorFlow backend.\n"
     ]
    }
   ],
   "source": [
    "from keras.datasets import mnist\n",
    "from keras.utils import np_utils\n",
    "from keras.models import Sequential\n",
    "from keras.layers import Dense\n",
    "import tensorflow as tf\n",
    "from keras.layers import Dropout"
   ]
  },
  {
   "cell_type": "code",
   "execution_count": 6,
   "metadata": {},
   "outputs": [
    {
     "name": "stdout",
     "output_type": "stream",
     "text": [
      "(65000, 784) (65000, 27)\n"
     ]
    }
   ],
   "source": [
    "x_train = train[:, 1:785]\n",
    "y_train = train[:, 0]\n",
    "y_train = np_utils.to_categorical(y_train)\n",
    "print(x_train.shape, y_train.shape)"
   ]
  },
  {
   "cell_type": "code",
   "execution_count": 7,
   "metadata": {},
   "outputs": [
    {
     "name": "stdout",
     "output_type": "stream",
     "text": [
      "(13000, 784) (13000, 27)\n"
     ]
    }
   ],
   "source": [
    "x_test = test[:, 1:785]\n",
    "y_test = test[:, 0]\n",
    "y_test = np_utils.to_categorical(y_test)\n",
    "print(x_test.shape, y_test.shape)"
   ]
  },
  {
   "cell_type": "code",
   "execution_count": 8,
   "metadata": {},
   "outputs": [],
   "source": [
    "x_train = x_train.astype('float32') / 255.\n",
    "x_test = x_test.astype('float32') / 255.\n",
    "x_train = x_train.reshape((-1, 784))\n",
    "x_test = x_test.reshape((-1, 784))"
   ]
  },
  {
   "cell_type": "code",
   "execution_count": 9,
   "metadata": {},
   "outputs": [],
   "source": [
    "N, M = x_train.shape #к-во объектов и признаков в обуч выборке\n",
    "O = 1024 \n",
    "P = 512\n",
    "K = 64\n",
    "T = 27\n",
    "batch_size = 200\n",
    "learning_rate = 0.001 \n",
    "training_epochs = 10"
   ]
  },
  {
   "cell_type": "code",
   "execution_count": 10,
   "metadata": {},
   "outputs": [
    {
     "name": "stdout",
     "output_type": "stream",
     "text": [
      "_________________________________________________________________\n",
      "Layer (type)                 Output Shape              Param #   \n",
      "=================================================================\n",
      "dense_1 (Dense)              (200, 1024)               803840    \n",
      "_________________________________________________________________\n",
      "dense_2 (Dense)              (200, 512)                524800    \n",
      "_________________________________________________________________\n",
      "dense_3 (Dense)              (200, 27)                 13851     \n",
      "=================================================================\n",
      "Total params: 1,342,491\n",
      "Trainable params: 1,342,491\n",
      "Non-trainable params: 0\n",
      "_________________________________________________________________\n",
      "None\n",
      "Epoch 1/10\n",
      "65000/65000 [==============================] - 24s 374us/step - loss: 0.7748 - acc: 0.7683\n",
      "Epoch 2/10\n",
      "65000/65000 [==============================] - 21s 323us/step - loss: 0.3393 - acc: 0.8903\n",
      "Epoch 3/10\n",
      "65000/65000 [==============================] - 21s 327us/step - loss: 0.2494 - acc: 0.9157\n",
      "Epoch 4/10\n",
      "65000/65000 [==============================] - 24s 377us/step - loss: 0.1956 - acc: 0.9322\n",
      "Epoch 5/10\n",
      "65000/65000 [==============================] - 23s 347us/step - loss: 0.1578 - acc: 0.9438\n",
      "Epoch 6/10\n",
      "65000/65000 [==============================] - 21s 326us/step - loss: 0.1288 - acc: 0.9526\n",
      "Epoch 7/10\n",
      "65000/65000 [==============================] - 22s 337us/step - loss: 0.1079 - acc: 0.9596\n",
      "Epoch 8/10\n",
      "65000/65000 [==============================] - 24s 366us/step - loss: 0.0918 - acc: 0.9648\n",
      "Epoch 9/10\n",
      "65000/65000 [==============================] - 25s 380us/step - loss: 0.0787 - acc: 0.9698\n",
      "Epoch 10/10\n",
      "65000/65000 [==============================] - 21s 327us/step - loss: 0.0713 - acc: 0.9714\n"
     ]
    },
    {
     "data": {
      "text/plain": [
       "<keras.callbacks.History at 0x1b90b504ef0>"
      ]
     },
     "execution_count": 10,
     "metadata": {},
     "output_type": "execute_result"
    }
   ],
   "source": [
    "tf.reset_default_graph()\n",
    "model = Sequential()\n",
    "model.add(Dense(O, input_dim = 784, batch_size = batch_size, activation = 'relu'))\n",
    "model.add(Dense(P, activation='sigmoid'))\n",
    "model.add(Dense(T, activation = 'softmax'))\n",
    "model.compile(optimizer = 'nadam', loss='categorical_crossentropy', metrics = ['accuracy'])\n",
    "print(model.summary())\n",
    "model.fit(x_train, y_train, epochs = training_epochs, batch_size = batch_size)"
   ]
  },
  {
   "cell_type": "markdown",
   "metadata": {},
   "source": [
    "<br/> sigmoid hard_sigmoid softmax RMSprop 93\n",
    "<br/> relu sigmoid softmax nadam 97 90.4(test)"
   ]
  },
  {
   "cell_type": "code",
   "execution_count": 11,
   "metadata": {},
   "outputs": [
    {
     "name": "stdout",
     "output_type": "stream",
     "text": [
      "13000/13000 [==============================] - 1s 83us/step\n",
      "Loss:  0.3382075960819538 Acc:  0.9054615387549767\n"
     ]
    }
   ],
   "source": [
    "score = model.evaluate(x_test, y_test, batch_size = batch_size)\n",
    "print('Loss: ', score[0], 'Acc: ', score[1])"
   ]
  },
  {
   "cell_type": "markdown",
   "metadata": {},
   "source": [
    "</br> Далее посмотрим сколько всего неправильных ответов дала нам наша нейронка на всей тестовой выборке"
   ]
  },
  {
   "cell_type": "code",
   "execution_count": 34,
   "metadata": {},
   "outputs": [
    {
     "name": "stdout",
     "output_type": "stream",
     "text": [
      "Длинна выборки =  13000\n",
      "Кол-во неправильных ответов =  1229\n"
     ]
    }
   ],
   "source": [
    "indexes = []\n",
    "print('Длинна выборки = ',x_test.shape[0])\n",
    "for i in range (0, x_test.shape[0]):\n",
    "    first_pic = x_test[i]\n",
    "    pic_label, pic = test[i,0], first_pic\n",
    "    if pic_label != model.predict_classes(x_test[i:i+1]):\n",
    "        indexes.append(i)\n",
    "        \n",
    "print('Кол-во неправильных ответов = ',len(indexes))"
   ]
  },
  {
   "cell_type": "markdown",
   "metadata": {},
   "source": [
    "</br> Ну а теперь посмотрим на каких буквах она ошибалась (возьмем 10)"
   ]
  },
  {
   "cell_type": "code",
   "execution_count": 15,
   "metadata": {},
   "outputs": [
    {
     "data": {
      "image/png": "[encoded data removed]",
      "text/plain": [
       "<Figure size 432x288 with 1 Axes>"
      ]
     },
     "metadata": {
      "needs_background": "light"
     },
     "output_type": "display_data"
    },
    {
     "name": "stdout",
     "output_type": "stream",
     "text": [
      "Реальное значение:  e ; Предсказанное:  c\n"
     ]
    },
    {
     "data": {
      "image/png": "[encoded data removed]",
      "text/plain": [
       "<Figure size 432x288 with 1 Axes>"
      ]
     },
     "metadata": {
      "needs_background": "light"
     },
     "output_type": "display_data"
    },
    {
     "name": "stdout",
     "output_type": "stream",
     "text": [
      "Реальное значение:  t ; Предсказанное:  c\n"
     ]
    },
    {
     "data": {
      "image/png": "[encoded data removed]",
      "text/plain": [
       "<Figure size 432x288 with 1 Axes>"
      ]
     },
     "metadata": {
      "needs_background": "light"
     },
     "output_type": "display_data"
    },
    {
     "name": "stdout",
     "output_type": "stream",
     "text": [
      "Реальное значение:  t ; Предсказанное:  y\n"
     ]
    },
    {
     "data": {
      "image/png": "[encoded data removed]",
      "text/plain": [
       "<Figure size 432x288 with 1 Axes>"
      ]
     },
     "metadata": {
      "needs_background": "light"
     },
     "output_type": "display_data"
    },
    {
     "name": "stdout",
     "output_type": "stream",
     "text": [
      "Реальное значение:  l ; Предсказанное:  i\n"
     ]
    },
    {
     "data": {
      "image/png": "[encoded data removed]",
      "text/plain": [
       "<Figure size 432x288 with 1 Axes>"
      ]
     },
     "metadata": {
      "needs_background": "light"
     },
     "output_type": "display_data"
    },
    {
     "name": "stdout",
     "output_type": "stream",
     "text": [
      "Реальное значение:  r ; Предсказанное:  a\n"
     ]
    },
    {
     "data": {
      "image/png": "[encoded data removed]",
      "text/plain": [
       "<Figure size 432x288 with 1 Axes>"
      ]
     },
     "metadata": {
      "needs_background": "light"
     },
     "output_type": "display_data"
    },
    {
     "name": "stdout",
     "output_type": "stream",
     "text": [
      "Реальное значение:  q ; Предсказанное:  a\n"
     ]
    },
    {
     "data": {
      "image/png": "[encoded data removed]",
      "text/plain": [
       "<Figure size 432x288 with 1 Axes>"
      ]
     },
     "metadata": {
      "needs_background": "light"
     },
     "output_type": "display_data"
    },
    {
     "name": "stdout",
     "output_type": "stream",
     "text": [
      "Реальное значение:  d ; Предсказанное:  l\n"
     ]
    },
    {
     "data": {
      "image/png": "[encoded data removed]",
      "text/plain": [
       "<Figure size 432x288 with 1 Axes>"
      ]
     },
     "metadata": {
      "needs_background": "light"
     },
     "output_type": "display_data"
    },
    {
     "name": "stdout",
     "output_type": "stream",
     "text": [
      "Реальное значение:  v ; Предсказанное:  u\n"
     ]
    },
    {
     "data": {
      "image/png": "[encoded data removed]",
      "text/plain": [
       "<Figure size 432x288 with 1 Axes>"
      ]
     },
     "metadata": {
      "needs_background": "light"
     },
     "output_type": "display_data"
    },
    {
     "name": "stdout",
     "output_type": "stream",
     "text": [
      "Реальное значение:  n ; Предсказанное:  m\n"
     ]
    },
    {
     "data": {
      "image/png": "[encoded data removed]",
      "text/plain": [
       "<Figure size 432x288 with 1 Axes>"
      ]
     },
     "metadata": {
      "needs_background": "light"
     },
     "output_type": "display_data"
    },
    {
     "name": "stdout",
     "output_type": "stream",
     "text": [
      "Реальное значение:  b ; Предсказанное:  a\n"
     ]
    }
   ],
   "source": [
    "characters = ['a','b','c','d','e','f','g','h','i','j','k','l','m','n','o','p','q','r','s', 't','u','v','w','x','y','z']\n",
    "for i in indexes[20:30]:\n",
    "    first_pic = x_test[i]\n",
    "    pic_label, pic = test[i,0], first_pic\n",
    "    plt.imshow(pic.reshape((28, 28)).T, cmap='gray')\n",
    "    plt.show()\n",
    "    print('Реальное значение: ', characters[test[i, 0]-1], '; Предсказанное: ', characters[model.predict_classes(x_test[i:i+1])[0]-1])\n",
    "#print(characters[test[indexes[1:10],0]], characters[for i in model.predict_classes(x_test[indexes[1:10]])])"
   ]
  },
  {
   "cell_type": "markdown",
   "metadata": {},
   "source": [
    "</br> Хм.. Знаете, я и сам в половине ошибся бы.\n",
    "</br> Ок, давайте посмотрим какие буквы с какими она путала и сколько раз. Для этого составим табличку (полная таблица в файле df.csv). Столбец - та буква, которая должна быть; строка - та, которая получилась."
   ]
  },
  {
   "cell_type": "code",
   "execution_count": 40,
   "metadata": {},
   "outputs": [
    {
     "name": "stdout",
     "output_type": "stream",
     "text": [
      "    a  b   c   d   e   f   g   h   i  j ...   q  r  s   t   u   v  w  x   y  z\n",
      "a   0  4   1   1   1   0   5   5   0  0 ...   9  9  0   0   3   0  1  3   1  1\n",
      "b   3  0   0  10   0   0   4  10   1  1 ...   0  0  1   0   0   0  0  0   1  0\n",
      "c   4  0   0   0  17   0   0   0   0  0 ...   2  3  0   3   0   0  0  0   0  0\n",
      "d   1  1   0   0   0   0   1   0   0  2 ...   0  0  0   0   0   1  0  0   0  1\n",
      "e   1  2  11   0   0   1   1   0   1  0 ...   0  2  0   1   0   0  0  0   0  0\n",
      "f   0  1   0   0   2   0   1   1   2  1 ...   4  5  1  13   0   0  0  1   1  1\n",
      "g  10  6   1   0   3   2   0   0   0  2 ...  75  1  8   0   0   0  0  1   5  1\n",
      "h   3  5   0   2   0   0   0   0   0  0 ...   0  1  0   0   0   1  1  0   1  0\n",
      "i   0  1   0   0   1   0   0   0   0  4 ...   2  0  1   1   0   0  0  0   0  1\n",
      "j   0  0   0   4   0   1   5   0  17  0 ...   0  0  4   3   1   1  0  0   3  0\n",
      "k   1  0   0   1   0   0   0   4   0  0 ...   0  6  0   2   0   1  2  2   0  0\n",
      "l   0  0   2   4   0   0   0   5  62  1 ...   0  0  0   1   0   0  0  0   0  3\n",
      "m   2  0   0   1   0   0   0   3   0  0 ...   0  1  0   0   0   1  2  0   0  0\n",
      "n   2  0   0   1   0   0   0   7   0  0 ...   1  4  0   0   1   1  2  1   0  0\n",
      "o   8  3   5  25   0   0   1   0   0  0 ...   4  0  1   0   2   0  0  0   1  0\n",
      "p   1  0   0   2   0  15   0   0   0  0 ...   0  1  0   1   0   0  0  0   0  2\n",
      "q  12  3   1   2   1   2  62   0   0  1 ...   0  4  2   1   0   0  1  2   0  7\n",
      "r   3  2   0   0   0   1   1   0   1  0 ...   0  0  0   2   0   3  0  1   3  1\n",
      "s   1  2   1   2   1   3   4   0   1  7 ...   2  1  0   0   0   0  0  0   1  0\n",
      "t   1  0   0   2   3   7   0   1   3  4 ...   1  1  0   0   0   0  0  1   1  2\n",
      "u   2  0   1   1   2   1   1   0   0  1 ...   1  0  0   0   0  17  4  0   2  0\n",
      "v   0  0   0   0   0   0   1   0   0  3 ...   0  4  0   1  17   0  6  1  16  0\n",
      "w   2  0   0   1   0   0   0   2   0  1 ...   1  0  0   0   5   0  0  0   0  1\n",
      "x   0  0   0   1   0   1   0   2   1  0 ...   0  2  0   0   1   2  0  0   4  3\n",
      "y   2  0   0   1   0   0   2   1   2  1 ...   2  3  0   7   7  11  2  8   0  0\n",
      "z   0  4   0   1   2   0   0   0   8  0 ...   1  1  0   0   1   0  0  0   0  0\n",
      "\n",
      "[26 rows x 26 columns]\n"
     ]
    }
   ],
   "source": [
    "errors = pd.DataFrame(index = characters, columns = characters)\n",
    "errors = errors.fillna(0)\n",
    "\n",
    "for i in indexes:\n",
    "    errors[characters[test[i, 0]-1] ][characters[model.predict_classes(x_test[i:i+1])[0]-1]] += 1\n",
    "    \n",
    "#for j in range(errors.shape[0]):\n",
    "#    for i in range(j, errors.shape[1]):\n",
    "#        errors[characters[i]][characters[j]] += errors[characters[j]][characters[i]]\n",
    "#        errors[characters[j]][characters[i]] = 0\n",
    "        \n",
    "print(errors)\n",
    "errors.to_csv('df.csv', sep=';')"
   ]
  },
  {
   "attachments": {},
   "cell_type": "markdown",
   "metadata": {},
   "source": [
    "</br> Как мы видим (в полной табличке) больше всего нейронка путает буквы l с i (174), i с l (62), g с q (62), q с g (72), d с o (25). Это объяснимо тем, что даже печатные буквы в написании очень похожи. Что уж говорить про рукописные. Тем более, что некоторые из них написаны непонятно даже для человека.\n",
    "<p> Далее посчитаем к-во каждой буквы в выборке"
   ]
  },
  {
   "cell_type": "code",
   "execution_count": 56,
   "metadata": {},
   "outputs": [
    {
     "name": "stdout",
     "output_type": "stream",
     "text": [
      "     1\n",
      "a  500\n",
      "b  500\n",
      "c  500\n",
      "d  500\n",
      "e  500\n",
      "f  500\n",
      "g  500\n",
      "h  500\n",
      "i  500\n",
      "j  500\n",
      "k  500\n",
      "l  500\n",
      "m  500\n",
      "n  500\n",
      "o  500\n",
      "p  500\n",
      "q  500\n",
      "r  500\n",
      "s  500\n",
      "t  500\n",
      "u  500\n",
      "v  500\n",
      "w  500\n",
      "x  500\n",
      "y  500\n",
      "z  500\n"
     ]
    }
   ],
   "source": [
    "num_count = pd.DataFrame(index = characters, columns = [1])\n",
    "num_count = num_count.fillna(0)\n",
    "\n",
    "for i in range (0, x_test.shape[0]):\n",
    "    pic_label= test[i,0]\n",
    "    num_count[1][characters[pic_label-1]] += 1\n",
    "print(num_count)"
   ]
  },
  {
   "cell_type": "markdown",
   "metadata": {},
   "source": [
    "<p> Оказалось, что все гораздо проще и их тут равное к-во. Хорошо, дальше посчитаем долю ошибки при определении каждой буквы. Для этого сложим значения по столбцам нашей таблицы и разделим его на 500."
   ]
  },
  {
   "cell_type": "code",
   "execution_count": 70,
   "metadata": {},
   "outputs": [
    {
     "name": "stdout",
     "output_type": "stream",
     "text": [
      "       1\n",
      "a  0.082\n",
      "b  0.074\n",
      "c  0.072\n",
      "d  0.068\n",
      "e  0.036\n",
      "f  0.050\n",
      "g  0.140\n",
      "h  0.056\n",
      "i  0.172\n",
      "j  0.096\n",
      "k  0.092\n",
      "l  0.408\n",
      "m  0.044\n",
      "n  0.068\n",
      "o  0.044\n",
      "p  0.086\n",
      "q  0.324\n",
      "r  0.080\n",
      "s  0.048\n",
      "t  0.078\n",
      "u  0.072\n",
      "v  0.060\n",
      "w  0.044\n",
      "x  0.048\n",
      "y  0.086\n",
      "z  0.046\n"
     ]
    }
   ],
   "source": [
    "errors_percent = pd.DataFrame(index = characters, columns = [1], dtype = np.float)\n",
    "errors_percent = errors_percent.fillna(0)\n",
    "\n",
    "for i in characters:\n",
    "    sum_error = 0\n",
    "    for j in characters:\n",
    "        sum_error += errors[i][j]\n",
    "    errors_percent[1][i] = sum_error / 500.\n",
    "print(errors_percent)"
   ]
  },
  {
   "cell_type": "markdown",
   "metadata": {},
   "source": [
    "<p> L и i оказались самыми сложными буквами. Ну впрочем это легко объяснить исходя из их написания. Их действительно много с чем можно перепутать. Особенно если подчерк у человека такой себе)"
   ]
  },
  {
   "cell_type": "code",
   "execution_count": null,
   "metadata": {},
   "outputs": [],
   "source": []
  }
 ],
 "metadata": {
  "kernelspec": {
   "display_name": "Python 3",
   "language": "python",
   "name": "python3"
  },
  "language_info": {
   "codemirror_mode": {
    "name": "ipython",
    "version": 3
   },
   "file_extension": ".py",
   "mimetype": "text/x-python",
   "name": "python",
   "nbconvert_exporter": "python",
   "pygments_lexer": "ipython3",
   "version": "3.6.0"
  }
 },
 "nbformat": 4,
 "nbformat_minor": 2
}
