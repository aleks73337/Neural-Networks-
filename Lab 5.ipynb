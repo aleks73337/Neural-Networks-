{
 "cells": [
  {
   "cell_type": "code",
   "execution_count": 1,
   "metadata": {},
   "outputs": [],
   "source": [
    "import pandas as pd\n",
    "train = pd.read_csv(\"train.csv\", header=None)\n",
    "test = pd.read_csv(\"test.csv\", header=None)"
   ]
  },
  {
   "cell_type": "code",
   "execution_count": 2,
   "metadata": {},
   "outputs": [
    {
     "name": "stdout",
     "output_type": "stream",
     "text": [
      "7\n"
     ]
    }
   ],
   "source": [
    "import numpy as np\n",
    "train = np.asarray(train)\n",
    "test = np.asarray(test)\n",
    "first_pic = train[8]\n",
    "pic_label, pic = first_pic[0], first_pic[1:]\n",
    "print(pic_label)"
   ]
  },
  {
   "cell_type": "code",
   "execution_count": 3,
   "metadata": {},
   "outputs": [
    {
     "data": {
      "text/plain": [
       "<Figure size 640x480 with 1 Axes>"
      ]
     },
     "metadata": {},
     "output_type": "display_data"
    }
   ],
   "source": [
    "import matplotlib.pyplot as plt\n",
    "plt.imshow(pic.reshape((28, 28)).T, cmap='gray')\n",
    "plt.show()"
   ]
  },
  {
   "cell_type": "code",
   "execution_count": 4,
   "metadata": {},
   "outputs": [
    {
     "name": "stderr",
     "output_type": "stream",
     "text": [
      "Using TensorFlow backend.\n"
     ]
    }
   ],
   "source": [
    "from keras.datasets import mnist\n",
    "from keras.utils import np_utils\n",
    "from keras.models import Sequential\n",
    "from keras.layers import Dense\n",
    "import tensorflow as tf\n",
    "from keras.layers import Dropout, Conv2D, Conv1D\n"
   ]
  },
  {
   "cell_type": "code",
   "execution_count": 5,
   "metadata": {},
   "outputs": [
    {
     "name": "stdout",
     "output_type": "stream",
     "text": [
      "(65000, 784) (65000, 27)\n"
     ]
    }
   ],
   "source": [
    "x_train = train[:, 1:785]\n",
    "y_train = train[:, 0]\n",
    "y_train = np_utils.to_categorical(y_train)\n",
    "print(x_train.shape, y_train.shape)"
   ]
  },
  {
   "cell_type": "code",
   "execution_count": 6,
   "metadata": {},
   "outputs": [
    {
     "name": "stdout",
     "output_type": "stream",
     "text": [
      "(13000, 784) (13000, 27)\n"
     ]
    }
   ],
   "source": [
    "x_test = test[:, 1:785]\n",
    "y_test = test[:, 0]\n",
    "y_test = np_utils.to_categorical(y_test)\n",
    "print(x_test.shape, y_test.shape)"
   ]
  },
  {
   "cell_type": "code",
   "execution_count": 7,
   "metadata": {},
   "outputs": [],
   "source": [
    "x_train = x_train.astype('float32') / 255.\n",
    "x_test = x_test.astype('float32') / 255.\n",
    "#x_train = x_train.reshape((-1, 784))\n",
    "#x_test = x_test.reshape((-1, 784))"
   ]
  },
  {
   "cell_type": "code",
   "execution_count": 8,
   "metadata": {},
   "outputs": [],
   "source": [
    "#for i in range(x_train.shape[0]):\n",
    "#    for j in range(x_train.shape[1]):\n",
    "#        x_train[i,j] = 1 if x_train[i,j] >= 0.7 else 0\n",
    "#for i in range(x_test.shape[0]):\n",
    "#    for j in range(x_test.shape[1]):\n",
    "#        x_test[i,j] = 1 if x_test[i,j] >= 0.7 else 0"
   ]
  },
  {
   "cell_type": "code",
   "execution_count": 9,
   "metadata": {},
   "outputs": [],
   "source": [
    "#x_train = x_train.reshape((-1, 784))\n",
    "#x_test = x_test.reshape((-1, 784))\n",
    "#np.savetxt('train_x_new.csv', x_train, fmt = '%d')\n",
    "#np.savetxt('test_x_new.csv', x_test, fmt = '%d')"
   ]
  },
  {
   "cell_type": "code",
   "execution_count": 15,
   "metadata": {},
   "outputs": [
    {
     "data": {
      "image/png": "[encoded data removed]",
      "text/plain": [
       "<Figure size 432x288 with 1 Axes>"
      ]
     },
     "metadata": {
      "needs_background": "light"
     },
     "output_type": "display_data"
    },
    {
     "name": "stdout",
     "output_type": "stream",
     "text": [
      "(13000, 28, 28)\n"
     ]
    }
   ],
   "source": [
    "x_train = x_train.reshape((-1, 28, 28))\n",
    "x_test = x_test.reshape((-1, 28, 28))\n",
    "first_pic = x_test[1]\n",
    "pic_label, pic = test[1,0], first_pic\n",
    "plt.imshow(pic.reshape((28, 28)).T, cmap='gray')\n",
    "plt.show()\n",
    "print(x_test.shape)"
   ]
  },
  {
   "cell_type": "code",
   "execution_count": 99,
   "metadata": {},
   "outputs": [],
   "source": [
    "from keras import backend\n",
    "from keras.layers import LSTM\n",
    "backend.clear_session()"
   ]
  },
  {
   "cell_type": "code",
   "execution_count": 102,
   "metadata": {},
   "outputs": [],
   "source": [
    "#N, M = x_train.shape #к-во объектов и признаков в обуч выборке\n",
    "O = 64\n",
    "P = 32\n",
    "K = 16\n",
    "T = 27\n",
    "batch_size = 200\n",
    "learning_rate = 0.001 \n",
    "training_epochs = 20"
   ]
  },
  {
   "cell_type": "code",
   "execution_count": 103,
   "metadata": {},
   "outputs": [
    {
     "name": "stdout",
     "output_type": "stream",
     "text": [
      "_________________________________________________________________\n",
      "Layer (type)                 Output Shape              Param #   \n",
      "=================================================================\n",
      "lstm_1 (LSTM)                (None, 64)                23808     \n",
      "_________________________________________________________________\n",
      "dense_1 (Dense)              (None, 32)                2080      \n",
      "_________________________________________________________________\n",
      "dense_2 (Dense)              (None, 16)                528       \n",
      "_________________________________________________________________\n",
      "dense_3 (Dense)              (None, 27)                459       \n",
      "=================================================================\n",
      "Total params: 26,875\n",
      "Trainable params: 26,875\n",
      "Non-trainable params: 0\n",
      "_________________________________________________________________\n",
      "None\n"
     ]
    }
   ],
   "source": [
    "tf.reset_default_graph()\n",
    "model = Sequential()\n",
    "model.add(LSTM(O, input_shape = (28, 28)))\n",
    "#model.add(LSTM(O, activation='sigmoid'))\n",
    "model.add(Dense(P, activation='relu'))\n",
    "model.add(Dense(K, activation='relu'))\n",
    "model.add(Dense(T, activation = 'softmax'))\n",
    "model.compile(optimizer = 'nadam', loss='categorical_crossentropy', metrics = ['accuracy'])\n",
    "print(model.summary())"
   ]
  },
  {
   "cell_type": "code",
   "execution_count": 104,
   "metadata": {},
   "outputs": [
    {
     "name": "stdout",
     "output_type": "stream",
     "text": [
      "Train on 65000 samples, validate on 13000 samples\n",
      "Epoch 1/20\n",
      "65000/65000 [==============================] - 18s 270us/step - loss: 1.6179 - acc: 0.5309 - val_loss: 0.8468 - val_acc: 0.7516\n",
      "Epoch 2/20\n",
      "65000/65000 [==============================] - 16s 254us/step - loss: 0.6874 - acc: 0.7954 - val_loss: 0.5850 - val_acc: 0.8232\n",
      "Epoch 3/20\n",
      "65000/65000 [==============================] - 16s 251us/step - loss: 0.5035 - acc: 0.8458 - val_loss: 0.4636 - val_acc: 0.8539\n",
      "Epoch 4/20\n",
      "65000/65000 [==============================] - 17s 256us/step - loss: 0.4149 - acc: 0.8698 - val_loss: 0.4074 - val_acc: 0.8717\n",
      "Epoch 5/20\n",
      "65000/65000 [==============================] - 17s 254us/step - loss: 0.3637 - acc: 0.8858 - val_loss: 0.3770 - val_acc: 0.8841\n",
      "Epoch 6/20\n",
      "65000/65000 [==============================] - 18s 279us/step - loss: 0.3287 - acc: 0.8952 - val_loss: 0.3750 - val_acc: 0.8822\n",
      "Epoch 7/20\n",
      "65000/65000 [==============================] - 19s 292us/step - loss: 0.3018 - acc: 0.9025 - val_loss: 0.3326 - val_acc: 0.8963\n",
      "Epoch 8/20\n",
      "65000/65000 [==============================] - 19s 296us/step - loss: 0.2807 - acc: 0.9077 - val_loss: 0.3151 - val_acc: 0.8994\n",
      "Epoch 9/20\n",
      "65000/65000 [==============================] - 19s 291us/step - loss: 0.2639 - acc: 0.9129 - val_loss: 0.3159 - val_acc: 0.8967\n",
      "Epoch 10/20\n",
      "65000/65000 [==============================] - 19s 295us/step - loss: 0.2489 - acc: 0.9170 - val_loss: 0.2979 - val_acc: 0.9054\n",
      "Epoch 11/20\n",
      "65000/65000 [==============================] - 20s 308us/step - loss: 0.2387 - acc: 0.9206 - val_loss: 0.3020 - val_acc: 0.9049\n",
      "Epoch 12/20\n",
      "65000/65000 [==============================] - 20s 306us/step - loss: 0.2278 - acc: 0.9226 - val_loss: 0.2969 - val_acc: 0.9062\n",
      "Epoch 13/20\n",
      "65000/65000 [==============================] - 19s 300us/step - loss: 0.2170 - acc: 0.9255 - val_loss: 0.2957 - val_acc: 0.9085\n",
      "Epoch 14/20\n",
      "65000/65000 [==============================] - 19s 298us/step - loss: 0.2101 - acc: 0.9276 - val_loss: 0.2819 - val_acc: 0.9093\n",
      "Epoch 15/20\n",
      "65000/65000 [==============================] - 19s 296us/step - loss: 0.1999 - acc: 0.9308 - val_loss: 0.2827 - val_acc: 0.9110\n",
      "Epoch 16/20\n",
      "65000/65000 [==============================] - 19s 291us/step - loss: 0.1932 - acc: 0.9322 - val_loss: 0.2829 - val_acc: 0.9102\n",
      "Epoch 17/20\n",
      "65000/65000 [==============================] - 19s 288us/step - loss: 0.1862 - acc: 0.9342 - val_loss: 0.2838 - val_acc: 0.9126\n",
      "Epoch 18/20\n",
      "65000/65000 [==============================] - 19s 293us/step - loss: 0.1813 - acc: 0.9360 - val_loss: 0.2879 - val_acc: 0.9096\n",
      "Epoch 19/20\n",
      " 5400/65000 [=>............................] - ETA: 17s - loss: 0.1651 - acc: 0.9411"
     ]
    },
    {
     "ename": "KeyboardInterrupt",
     "evalue": "",
     "output_type": "error",
     "traceback": [
      "\u001b[1;31m---------------------------------------------------------------------------\u001b[0m",
      "\u001b[1;31mKeyboardInterrupt\u001b[0m                         Traceback (most recent call last)",
      "\u001b[1;32m<ipython-input-104-e655444e92bb>\u001b[0m in \u001b[0;36m<module>\u001b[1;34m\u001b[0m\n\u001b[0;32m      1\u001b[0m \u001b[1;31m#for i in range(training_epochs):\u001b[0m\u001b[1;33m\u001b[0m\u001b[1;33m\u001b[0m\u001b[0m\n\u001b[0;32m      2\u001b[0m \u001b[1;31m#print( 'Epoch: ', i)\u001b[0m\u001b[1;33m\u001b[0m\u001b[1;33m\u001b[0m\u001b[0m\n\u001b[1;32m----> 3\u001b[1;33m \u001b[0mmodel\u001b[0m\u001b[1;33m.\u001b[0m\u001b[0mfit\u001b[0m\u001b[1;33m(\u001b[0m\u001b[0mx_train\u001b[0m\u001b[1;33m,\u001b[0m \u001b[0my_train\u001b[0m\u001b[1;33m,\u001b[0m \u001b[0mepochs\u001b[0m \u001b[1;33m=\u001b[0m \u001b[0mtraining_epochs\u001b[0m\u001b[1;33m,\u001b[0m \u001b[0mbatch_size\u001b[0m \u001b[1;33m=\u001b[0m \u001b[0mbatch_size\u001b[0m\u001b[1;33m,\u001b[0m \u001b[0mvalidation_data\u001b[0m \u001b[1;33m=\u001b[0m \u001b[1;33m(\u001b[0m\u001b[0mx_test\u001b[0m\u001b[1;33m,\u001b[0m \u001b[0my_test\u001b[0m\u001b[1;33m)\u001b[0m\u001b[1;33m)\u001b[0m\u001b[1;33m\u001b[0m\u001b[0m\n\u001b[0m\u001b[0;32m      4\u001b[0m \u001b[1;31m#    score = model.evaluate(x_test, y_test, batch_size = batch_size)\u001b[0m\u001b[1;33m\u001b[0m\u001b[1;33m\u001b[0m\u001b[0m\n\u001b[0;32m      5\u001b[0m \u001b[1;31m#    print('Loss: ', score[0], 'Acc: ', score[1])\u001b[0m\u001b[1;33m\u001b[0m\u001b[1;33m\u001b[0m\u001b[0m\n",
      "\u001b[1;32mc:\\users\\alex\\appdata\\local\\programs\\python\\python36\\lib\\site-packages\\keras\\engine\\training.py\u001b[0m in \u001b[0;36mfit\u001b[1;34m(self, x, y, batch_size, epochs, verbose, callbacks, validation_split, validation_data, shuffle, class_weight, sample_weight, initial_epoch, steps_per_epoch, validation_steps, **kwargs)\u001b[0m\n\u001b[0;32m   1037\u001b[0m                                         \u001b[0minitial_epoch\u001b[0m\u001b[1;33m=\u001b[0m\u001b[0minitial_epoch\u001b[0m\u001b[1;33m,\u001b[0m\u001b[1;33m\u001b[0m\u001b[0m\n\u001b[0;32m   1038\u001b[0m                                         \u001b[0msteps_per_epoch\u001b[0m\u001b[1;33m=\u001b[0m\u001b[0msteps_per_epoch\u001b[0m\u001b[1;33m,\u001b[0m\u001b[1;33m\u001b[0m\u001b[0m\n\u001b[1;32m-> 1039\u001b[1;33m                                         validation_steps=validation_steps)\n\u001b[0m\u001b[0;32m   1040\u001b[0m \u001b[1;33m\u001b[0m\u001b[0m\n\u001b[0;32m   1041\u001b[0m     def evaluate(self, x=None, y=None,\n",
      "\u001b[1;32mc:\\users\\alex\\appdata\\local\\programs\\python\\python36\\lib\\site-packages\\keras\\engine\\training_arrays.py\u001b[0m in \u001b[0;36mfit_loop\u001b[1;34m(model, f, ins, out_labels, batch_size, epochs, verbose, callbacks, val_f, val_ins, shuffle, callback_metrics, initial_epoch, steps_per_epoch, validation_steps)\u001b[0m\n\u001b[0;32m    197\u001b[0m                     \u001b[0mins_batch\u001b[0m\u001b[1;33m[\u001b[0m\u001b[0mi\u001b[0m\u001b[1;33m]\u001b[0m \u001b[1;33m=\u001b[0m \u001b[0mins_batch\u001b[0m\u001b[1;33m[\u001b[0m\u001b[0mi\u001b[0m\u001b[1;33m]\u001b[0m\u001b[1;33m.\u001b[0m\u001b[0mtoarray\u001b[0m\u001b[1;33m(\u001b[0m\u001b[1;33m)\u001b[0m\u001b[1;33m\u001b[0m\u001b[0m\n\u001b[0;32m    198\u001b[0m \u001b[1;33m\u001b[0m\u001b[0m\n\u001b[1;32m--> 199\u001b[1;33m                 \u001b[0mouts\u001b[0m \u001b[1;33m=\u001b[0m \u001b[0mf\u001b[0m\u001b[1;33m(\u001b[0m\u001b[0mins_batch\u001b[0m\u001b[1;33m)\u001b[0m\u001b[1;33m\u001b[0m\u001b[0m\n\u001b[0m\u001b[0;32m    200\u001b[0m                 \u001b[0mouts\u001b[0m \u001b[1;33m=\u001b[0m \u001b[0mto_list\u001b[0m\u001b[1;33m(\u001b[0m\u001b[0mouts\u001b[0m\u001b[1;33m)\u001b[0m\u001b[1;33m\u001b[0m\u001b[0m\n\u001b[0;32m    201\u001b[0m                 \u001b[1;32mfor\u001b[0m \u001b[0ml\u001b[0m\u001b[1;33m,\u001b[0m \u001b[0mo\u001b[0m \u001b[1;32min\u001b[0m \u001b[0mzip\u001b[0m\u001b[1;33m(\u001b[0m\u001b[0mout_labels\u001b[0m\u001b[1;33m,\u001b[0m \u001b[0mouts\u001b[0m\u001b[1;33m)\u001b[0m\u001b[1;33m:\u001b[0m\u001b[1;33m\u001b[0m\u001b[0m\n",
      "\u001b[1;32mc:\\users\\alex\\appdata\\local\\programs\\python\\python36\\lib\\site-packages\\keras\\backend\\tensorflow_backend.py\u001b[0m in \u001b[0;36m__call__\u001b[1;34m(self, inputs)\u001b[0m\n\u001b[0;32m   2713\u001b[0m                 \u001b[1;32mreturn\u001b[0m \u001b[0mself\u001b[0m\u001b[1;33m.\u001b[0m\u001b[0m_legacy_call\u001b[0m\u001b[1;33m(\u001b[0m\u001b[0minputs\u001b[0m\u001b[1;33m)\u001b[0m\u001b[1;33m\u001b[0m\u001b[0m\n\u001b[0;32m   2714\u001b[0m \u001b[1;33m\u001b[0m\u001b[0m\n\u001b[1;32m-> 2715\u001b[1;33m             \u001b[1;32mreturn\u001b[0m \u001b[0mself\u001b[0m\u001b[1;33m.\u001b[0m\u001b[0m_call\u001b[0m\u001b[1;33m(\u001b[0m\u001b[0minputs\u001b[0m\u001b[1;33m)\u001b[0m\u001b[1;33m\u001b[0m\u001b[0m\n\u001b[0m\u001b[0;32m   2716\u001b[0m         \u001b[1;32melse\u001b[0m\u001b[1;33m:\u001b[0m\u001b[1;33m\u001b[0m\u001b[0m\n\u001b[0;32m   2717\u001b[0m             \u001b[1;32mif\u001b[0m \u001b[0mpy_any\u001b[0m\u001b[1;33m(\u001b[0m\u001b[0mis_tensor\u001b[0m\u001b[1;33m(\u001b[0m\u001b[0mx\u001b[0m\u001b[1;33m)\u001b[0m \u001b[1;32mfor\u001b[0m \u001b[0mx\u001b[0m \u001b[1;32min\u001b[0m \u001b[0minputs\u001b[0m\u001b[1;33m)\u001b[0m\u001b[1;33m:\u001b[0m\u001b[1;33m\u001b[0m\u001b[0m\n",
      "\u001b[1;32mc:\\users\\alex\\appdata\\local\\programs\\python\\python36\\lib\\site-packages\\keras\\backend\\tensorflow_backend.py\u001b[0m in \u001b[0;36m_call\u001b[1;34m(self, inputs)\u001b[0m\n\u001b[0;32m   2673\u001b[0m             \u001b[0mfetched\u001b[0m \u001b[1;33m=\u001b[0m \u001b[0mself\u001b[0m\u001b[1;33m.\u001b[0m\u001b[0m_callable_fn\u001b[0m\u001b[1;33m(\u001b[0m\u001b[1;33m*\u001b[0m\u001b[0marray_vals\u001b[0m\u001b[1;33m,\u001b[0m \u001b[0mrun_metadata\u001b[0m\u001b[1;33m=\u001b[0m\u001b[0mself\u001b[0m\u001b[1;33m.\u001b[0m\u001b[0mrun_metadata\u001b[0m\u001b[1;33m)\u001b[0m\u001b[1;33m\u001b[0m\u001b[0m\n\u001b[0;32m   2674\u001b[0m         \u001b[1;32melse\u001b[0m\u001b[1;33m:\u001b[0m\u001b[1;33m\u001b[0m\u001b[0m\n\u001b[1;32m-> 2675\u001b[1;33m             \u001b[0mfetched\u001b[0m \u001b[1;33m=\u001b[0m \u001b[0mself\u001b[0m\u001b[1;33m.\u001b[0m\u001b[0m_callable_fn\u001b[0m\u001b[1;33m(\u001b[0m\u001b[1;33m*\u001b[0m\u001b[0marray_vals\u001b[0m\u001b[1;33m)\u001b[0m\u001b[1;33m\u001b[0m\u001b[0m\n\u001b[0m\u001b[0;32m   2676\u001b[0m         \u001b[1;32mreturn\u001b[0m \u001b[0mfetched\u001b[0m\u001b[1;33m[\u001b[0m\u001b[1;33m:\u001b[0m\u001b[0mlen\u001b[0m\u001b[1;33m(\u001b[0m\u001b[0mself\u001b[0m\u001b[1;33m.\u001b[0m\u001b[0moutputs\u001b[0m\u001b[1;33m)\u001b[0m\u001b[1;33m]\u001b[0m\u001b[1;33m\u001b[0m\u001b[0m\n\u001b[0;32m   2677\u001b[0m \u001b[1;33m\u001b[0m\u001b[0m\n",
      "\u001b[1;32mc:\\users\\alex\\appdata\\local\\programs\\python\\python36\\lib\\site-packages\\tensorflow\\python\\client\\session.py\u001b[0m in \u001b[0;36m__call__\u001b[1;34m(self, *args, **kwargs)\u001b[0m\n\u001b[0;32m   1437\u001b[0m           ret = tf_session.TF_SessionRunCallable(\n\u001b[0;32m   1438\u001b[0m               \u001b[0mself\u001b[0m\u001b[1;33m.\u001b[0m\u001b[0m_session\u001b[0m\u001b[1;33m.\u001b[0m\u001b[0m_session\u001b[0m\u001b[1;33m,\u001b[0m \u001b[0mself\u001b[0m\u001b[1;33m.\u001b[0m\u001b[0m_handle\u001b[0m\u001b[1;33m,\u001b[0m \u001b[0margs\u001b[0m\u001b[1;33m,\u001b[0m \u001b[0mstatus\u001b[0m\u001b[1;33m,\u001b[0m\u001b[1;33m\u001b[0m\u001b[0m\n\u001b[1;32m-> 1439\u001b[1;33m               run_metadata_ptr)\n\u001b[0m\u001b[0;32m   1440\u001b[0m         \u001b[1;32mif\u001b[0m \u001b[0mrun_metadata\u001b[0m\u001b[1;33m:\u001b[0m\u001b[1;33m\u001b[0m\u001b[0m\n\u001b[0;32m   1441\u001b[0m           \u001b[0mproto_data\u001b[0m \u001b[1;33m=\u001b[0m \u001b[0mtf_session\u001b[0m\u001b[1;33m.\u001b[0m\u001b[0mTF_GetBuffer\u001b[0m\u001b[1;33m(\u001b[0m\u001b[0mrun_metadata_ptr\u001b[0m\u001b[1;33m)\u001b[0m\u001b[1;33m\u001b[0m\u001b[0m\n",
      "\u001b[1;31mKeyboardInterrupt\u001b[0m: "
     ]
    }
   ],
   "source": [
    "#for i in range(training_epochs):\n",
    "#print( 'Epoch: ', i)\n",
    "model.fit(x_train, y_train, epochs = training_epochs, batch_size = batch_size, validation_data = (x_test, y_test))\n",
    "#    score = model.evaluate(x_test, y_test, batch_size = batch_size)\n",
    "#    print('Loss: ', score[0], 'Acc: ', score[1])"
   ]
  },
  {
   "cell_type": "markdown",
   "metadata": {},
   "source": [
    "<br/> sigmoid hard_sigmoid softmax RMSprop 93\n",
    "<br/> relu sigmoid softmax nadam 97 90.4(test)\n",
    "<br/> dropout(0.2) O = 1024 P = 256\n",
    "K = 64\n",
    "T = 27"
   ]
  },
  {
   "cell_type": "code",
   "execution_count": null,
   "metadata": {},
   "outputs": [],
   "source": [
    "score = model.evaluate(x_test, y_test, batch_size = batch_size)\n",
    "print('Loss: ', score[0], 'Acc: ', score[1])"
   ]
  },
  {
   "cell_type": "markdown",
   "metadata": {},
   "source": [
    "</br> Далее посмотрим сколько всего неправильных ответов дала нам наша нейронка на всей тестовой выборке"
   ]
  },
  {
   "cell_type": "code",
   "execution_count": 15,
   "metadata": {},
   "outputs": [
    {
     "name": "stdout",
     "output_type": "stream",
     "text": [
      "Длинна выборки =  13000\n",
      "Кол-во неправильных ответов =  1213\n"
     ]
    }
   ],
   "source": [
    "indexes = []\n",
    "print('Длинна выборки = ',x_test.shape[0])\n",
    "for i in range (0, x_test.shape[0]):\n",
    "    first_pic = x_test[i]\n",
    "    pic_label, pic = test[i,0], first_pic\n",
    "    if pic_label != model.predict_classes(x_test[i:i+1]):\n",
    "        indexes.append(i)\n",
    "        \n",
    "print('Кол-во неправильных ответов = ',len(indexes))"
   ]
  },
  {
   "cell_type": "markdown",
   "metadata": {},
   "source": [
    "</br> Ну а теперь посмотрим на каких буквах она ошибалась (возьмем 10)"
   ]
  },
  {
   "cell_type": "code",
   "execution_count": 16,
   "metadata": {},
   "outputs": [
    {
     "data": {
      "image/png": "[encoded data removed]",
      "text/plain": [
       "<Figure size 432x288 with 1 Axes>"
      ]
     },
     "metadata": {
      "needs_background": "light"
     },
     "output_type": "display_data"
    },
    {
     "name": "stdout",
     "output_type": "stream",
     "text": [
      "Реальное значение:  q ; Предсказанное:  g\n"
     ]
    },
    {
     "data": {
      "image/png": "[encoded data removed]",
      "text/plain": [
       "<Figure size 432x288 with 1 Axes>"
      ]
     },
     "metadata": {
      "needs_background": "light"
     },
     "output_type": "display_data"
    },
    {
     "name": "stdout",
     "output_type": "stream",
     "text": [
      "Реальное значение:  l ; Предсказанное:  i\n"
     ]
    },
    {
     "data": {
      "image/png": "[encoded data removed]",
      "text/plain": [
       "<Figure size 432x288 with 1 Axes>"
      ]
     },
     "metadata": {
      "needs_background": "light"
     },
     "output_type": "display_data"
    },
    {
     "name": "stdout",
     "output_type": "stream",
     "text": [
      "Реальное значение:  r ; Предсказанное:  q\n"
     ]
    },
    {
     "data": {
      "image/png": "[encoded data removed]",
      "text/plain": [
       "<Figure size 432x288 with 1 Axes>"
      ]
     },
     "metadata": {
      "needs_background": "light"
     },
     "output_type": "display_data"
    },
    {
     "name": "stdout",
     "output_type": "stream",
     "text": [
      "Реальное значение:  m ; Предсказанное:  n\n"
     ]
    },
    {
     "data": {
      "image/png": "[encoded data removed]",
      "text/plain": [
       "<Figure size 432x288 with 1 Axes>"
      ]
     },
     "metadata": {
      "needs_background": "light"
     },
     "output_type": "display_data"
    },
    {
     "name": "stdout",
     "output_type": "stream",
     "text": [
      "Реальное значение:  q ; Предсказанное:  a\n"
     ]
    },
    {
     "data": {
      "image/png": "[encoded data removed]",
      "text/plain": [
       "<Figure size 432x288 with 1 Axes>"
      ]
     },
     "metadata": {
      "needs_background": "light"
     },
     "output_type": "display_data"
    },
    {
     "name": "stdout",
     "output_type": "stream",
     "text": [
      "Реальное значение:  d ; Предсказанное:  l\n"
     ]
    },
    {
     "data": {
      "image/png": "[encoded data removed]",
      "text/plain": [
       "<Figure size 432x288 with 1 Axes>"
      ]
     },
     "metadata": {
      "needs_background": "light"
     },
     "output_type": "display_data"
    },
    {
     "name": "stdout",
     "output_type": "stream",
     "text": [
      "Реальное значение:  v ; Предсказанное:  u\n"
     ]
    },
    {
     "data": {
      "image/png": "[encoded data removed]",
      "text/plain": [
       "<Figure size 432x288 with 1 Axes>"
      ]
     },
     "metadata": {
      "needs_background": "light"
     },
     "output_type": "display_data"
    },
    {
     "name": "stdout",
     "output_type": "stream",
     "text": [
      "Реальное значение:  q ; Предсказанное:  u\n"
     ]
    },
    {
     "data": {
      "image/png": "[encoded data removed]",
      "text/plain": [
       "<Figure size 432x288 with 1 Axes>"
      ]
     },
     "metadata": {
      "needs_background": "light"
     },
     "output_type": "display_data"
    },
    {
     "name": "stdout",
     "output_type": "stream",
     "text": [
      "Реальное значение:  b ; Предсказанное:  r\n"
     ]
    },
    {
     "data": {
      "image/png": "[encoded data removed]",
      "text/plain": [
       "<Figure size 432x288 with 1 Axes>"
      ]
     },
     "metadata": {
      "needs_background": "light"
     },
     "output_type": "display_data"
    },
    {
     "name": "stdout",
     "output_type": "stream",
     "text": [
      "Реальное значение:  u ; Предсказанное:  v\n"
     ]
    }
   ],
   "source": [
    "characters = ['a','b','c','d','e','f','g','h','i','j','k','l','m','n','o','p','q','r','s', 't','u','v','w','x','y','z']\n",
    "for i in indexes[20:30]:\n",
    "    first_pic = x_test[i]\n",
    "    pic_label, pic = test[i,0], first_pic\n",
    "    plt.imshow(pic.reshape((28, 28)).T, cmap='gray')\n",
    "    plt.show()\n",
    "    print('Реальное значение: ', characters[test[i, 0]-1], '; Предсказанное: ', characters[model.predict_classes(x_test[i:i+1])[0]-1])\n",
    "#print(characters[test[indexes[1:10],0]], characters[for i in model.predict_classes(x_test[indexes[1:10]])])"
   ]
  },
  {
   "cell_type": "markdown",
   "metadata": {},
   "source": [
    "</br> Хм.. Знаете, я и сам в половине ошибся бы.\n",
    "</br> Ок, давайте посмотрим какие буквы с какими она путала и сколько раз. Для этого составим табличку (полная таблица в файле df.csv). Столбец - та буква, которая должна быть; строка - та, которая получилась."
   ]
  },
  {
   "cell_type": "code",
   "execution_count": 17,
   "metadata": {},
   "outputs": [
    {
     "name": "stdout",
     "output_type": "stream",
     "text": [
      "    a  b   c   d   e   f   g   h   i   j ...   q  r   s  t   u   v  w  x   y  \\\n",
      "a   0  2   0   0   0   0  11   0   0   0 ...   9  7   0  0   0   0  1  3   0   \n",
      "b   6  0   1   8   2   0  14   7   1   1 ...   4  1   1  0   0   0  0  0   2   \n",
      "c   4  0   0   0  11   0   0   0   0   0 ...   3  3   0  2   0   0  0  0   0   \n",
      "d   5  2   0   0   0   0   1   1   0  10 ...   3  0   0  0   0   1  1  0   0   \n",
      "e  10  2  17   0   0   3   4   0   1   0 ...   1  3   1  5   0   0  0  0   0   \n",
      "f   0  2   0   0   0   0   2   1   1   1 ...   4  2   1  8   0   0  0  0   0   \n",
      "g   6  3   2   0   2   1   0   1   0   2 ...  71  0  12  0   1   0  0  1   5   \n",
      "h   6  4   0   1   0   0   0   0   0   0 ...   0  1   0  0   1   0  0  0   1   \n",
      "i   0  0   0   0   0   1   0   0   0   4 ...   2  1   0  3   0   0  0  0   2   \n",
      "j   0  0   0   2   0   0   4   0  21   0 ...   0  0   2  6   0   1  0  0   2   \n",
      "k   1  0   0   3   1   0   1   5   0   0 ...   1  9   0  2   0   1  2  4   0   \n",
      "l   0  1   2   2   0   0   0   6  71   1 ...   0  1   0  4   0   0  0  1   0   \n",
      "m   1  0   0   1   0   0   0   3   0   0 ...   0  1   0  0   0   1  1  0   0   \n",
      "n   5  0   0   0   0   2   0  12   0   0 ...   2  5   0  0   4   2  7  2   0   \n",
      "o   5  1   2  11   0   0   1   0   0   0 ...   2  0   1  0   1   0  0  0   0   \n",
      "p   0  0   0   2   0  12   1   0   0   0 ...   3  1   0  0   0   0  0  0   1   \n",
      "q  15  1   1   0   1   0  44   1   0   1 ...   0  2   2  0   0   0  1  1   0   \n",
      "r   2  2   1   0   0   1   0   0   0   0 ...   1  0   0  5   0   9  0  1   4   \n",
      "s   2  0   0   1   2   1   6   0   2  16 ...   3  0   0  0   0   1  0  0   1   \n",
      "t   1  0   0   0   2   6   0   0   0   2 ...   1  4   0  0   0   0  0  1   0   \n",
      "u   1  0   1   0   1   0   1   0   0   3 ...   3  0   0  0   0  25  9  0   5   \n",
      "v   0  0   0   0   0   0   1   0   0   1 ...   0  0   0  0  13   0  2  0  12   \n",
      "w   2  0   0   1   1   0   0   1   0   1 ...   0  0   0  0   0   2  0  1   0   \n",
      "x   0  0   0   1   0   1   0   1   0   0 ...   0  0   0  0   1   2  0  0   1   \n",
      "y   1  0   0   0   0   1   2   1   2   0 ...   1  0   0  9   2  20  1  8   0   \n",
      "z   1  1   0   1   1   1   0   0   5   0 ...   3  1   0  1   0   0  0  2   0   \n",
      "\n",
      "   z  \n",
      "a  1  \n",
      "b  1  \n",
      "c  1  \n",
      "d  1  \n",
      "e  4  \n",
      "f  0  \n",
      "g  1  \n",
      "h  0  \n",
      "i  0  \n",
      "j  0  \n",
      "k  1  \n",
      "l  3  \n",
      "m  0  \n",
      "n  0  \n",
      "o  1  \n",
      "p  2  \n",
      "q  7  \n",
      "r  0  \n",
      "s  0  \n",
      "t  3  \n",
      "u  0  \n",
      "v  0  \n",
      "w  0  \n",
      "x  2  \n",
      "y  0  \n",
      "z  0  \n",
      "\n",
      "[26 rows x 26 columns]\n"
     ]
    }
   ],
   "source": [
    "errors = pd.DataFrame(index = characters, columns = characters)\n",
    "errors = errors.fillna(0)\n",
    "\n",
    "for i in indexes:\n",
    "    errors[characters[test[i, 0]-1] ][characters[model.predict_classes(x_test[i:i+1])[0]-1]] += 1\n",
    "    \n",
    "#for j in range(errors.shape[0]):\n",
    "#    for i in range(j, errors.shape[1]):\n",
    "#        errors[characters[i]][characters[j]] += errors[characters[j]][characters[i]]\n",
    "#        errors[characters[j]][characters[i]] = 0\n",
    "        \n",
    "print(errors)\n",
    "errors.to_csv('df.csv', sep=';')"
   ]
  },
  {
   "cell_type": "markdown",
   "metadata": {},
   "source": [
    "</br> Как мы видим (в полной табличке) больше всего нейронка путает буквы l с i (174), i с l (62), g с q (62), q с g (72), d с o (25). Это объяснимо тем, что даже печатные буквы в написании очень похожи. Что уж говорить про рукописные. Тем более, что некоторые из них написаны непонятно даже для человека.\n",
    "<p> Далее посчитаем к-во каждой буквы в выборке"
   ]
  },
  {
   "cell_type": "code",
   "execution_count": 18,
   "metadata": {},
   "outputs": [
    {
     "name": "stdout",
     "output_type": "stream",
     "text": [
      "     1\n",
      "a  500\n",
      "b  500\n",
      "c  500\n",
      "d  500\n",
      "e  500\n",
      "f  500\n",
      "g  500\n",
      "h  500\n",
      "i  500\n",
      "j  500\n",
      "k  500\n",
      "l  500\n",
      "m  500\n",
      "n  500\n",
      "o  500\n",
      "p  500\n",
      "q  500\n",
      "r  500\n",
      "s  500\n",
      "t  500\n",
      "u  500\n",
      "v  500\n",
      "w  500\n",
      "x  500\n",
      "y  500\n",
      "z  500\n"
     ]
    }
   ],
   "source": [
    "num_count = pd.DataFrame(index = characters, columns = [1])\n",
    "num_count = num_count.fillna(0)\n",
    "\n",
    "for i in range (0, x_test.shape[0]):\n",
    "    pic_label= test[i,0]\n",
    "    num_count[1][characters[pic_label-1]] += 1\n",
    "print(num_count)"
   ]
  },
  {
   "cell_type": "markdown",
   "metadata": {},
   "source": [
    "<p> Оказалось, что все гораздо проще и их тут равное к-во. Хорошо, дальше посчитаем долю ошибки при определении каждой буквы. Для этого сложим значения по столбцам нашей таблицы и разделим его на 500."
   ]
  },
  {
   "cell_type": "code",
   "execution_count": 19,
   "metadata": {},
   "outputs": [
    {
     "name": "stdout",
     "output_type": "stream",
     "text": [
      "       1\n",
      "a  0.148\n",
      "b  0.042\n",
      "c  0.054\n",
      "d  0.068\n",
      "e  0.048\n",
      "f  0.060\n",
      "g  0.186\n",
      "h  0.080\n",
      "i  0.208\n",
      "j  0.086\n",
      "k  0.046\n",
      "l  0.340\n",
      "m  0.046\n",
      "n  0.062\n",
      "o  0.036\n",
      "p  0.064\n",
      "q  0.234\n",
      "r  0.084\n",
      "s  0.040\n",
      "t  0.090\n",
      "u  0.046\n",
      "v  0.130\n",
      "w  0.050\n",
      "x  0.050\n",
      "y  0.072\n",
      "z  0.056\n"
     ]
    }
   ],
   "source": [
    "errors_percent = pd.DataFrame(index = characters, columns = [1], dtype = np.float)\n",
    "errors_percent = errors_percent.fillna(0)\n",
    "\n",
    "for i in characters:\n",
    "    sum_error = 0\n",
    "    for j in characters:\n",
    "        sum_error += errors[i][j]\n",
    "    errors_percent[1][i] = sum_error / 500.\n",
    "print(errors_percent)"
   ]
  },
  {
   "cell_type": "markdown",
   "metadata": {},
   "source": [
    "<p> L и i оказались самыми сложными буквами. Ну впрочем это легко объяснить исходя из их написания. Их действительно много с чем можно перепутать. Особенно если подчерк у человека такой себе) Соответственно, модель лучше распознает такие буквы, как z,m,s,f потому что их сложно с чем-то перепутать.\n",
    "<p> По поводу фамилий: \n",
    "    <br><b>Сомов</b> - S. Точность детекции 0.952. Чаще всего нейронка путает ее с буквами g (8 раз) и j (4 раза). <br><b>Логинов</b> - L. Точность детекции 0.592. Эх, обидно. Чаще всего путает с i (174 раза) и c (4 раза). Ох уж эта i :)"
   ]
  },
  {
   "cell_type": "code",
   "execution_count": 20,
   "metadata": {},
   "outputs": [],
   "source": [
    "from sklearn.ensemble import RandomForestClassifier\n",
    "from sklearn.metrics import classification_report, accuracy_score\n",
    "train_y = train[:,0]\n",
    "train_x = train[:, 0:]\n",
    "\n",
    "test_y = test[:, 0]\n",
    "test_x = test[:, 0:]"
   ]
  },
  {
   "cell_type": "markdown",
   "metadata": {},
   "source": [
    "<p> Теперь попробуем получить такую же точность на Random Forest"
   ]
  },
  {
   "cell_type": "code",
   "execution_count": 33,
   "metadata": {},
   "outputs": [
    {
     "name": "stdout",
     "output_type": "stream",
     "text": [
      "Глубина дерева: :  19 ; К-во деревьев:  19 ; Accuracy:  0.9004615384615384\n"
     ]
    }
   ],
   "source": [
    "model = RandomForestClassifier(n_estimators=19, max_depth=19).fit(train_x, train_y)\n",
    "acc = accuracy_score(test_y, model.predict(test_x))\n",
    "print('Глубина дерева: : ', 19, '; К-во деревьев: ', 19,'; Accuracy: ',acc)"
   ]
  },
  {
   "cell_type": "markdown",
   "metadata": {},
   "source": [
    "<p> Для подбора параметров использовали старый добрый брутфорс"
   ]
  },
  {
   "cell_type": "code",
   "execution_count": null,
   "metadata": {
    "scrolled": false
   },
   "outputs": [],
   "source": []
  },
  {
   "cell_type": "code",
   "execution_count": null,
   "metadata": {},
   "outputs": [],
   "source": []
  }
 ],
 "metadata": {
  "kernelspec": {
   "display_name": "Python 3",
   "language": "python",
   "name": "python3"
  }
 },
 "nbformat": 4,
 "nbformat_minor": 2
}
